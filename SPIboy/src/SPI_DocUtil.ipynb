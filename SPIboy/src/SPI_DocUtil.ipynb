{
 "cells": [
  {
   "cell_type": "code",
   "execution_count": 18,
   "id": "fd772301",
   "metadata": {},
   "outputs": [
    {
     "name": "stdout",
     "output_type": "stream",
     "text": [
      "The autoreload extension is already loaded. To reload it, use:\n",
      "  %reload_ext autoreload\n"
     ]
    }
   ],
   "source": [
    "# IPython Automatically reload external modules\n",
    "%load_ext autoreload\n",
    "%autoreload 2"
   ]
  },
  {
   "cell_type": "code",
   "execution_count": 25,
   "id": "03a1bade",
   "metadata": {},
   "outputs": [
    {
     "name": "stdout",
     "output_type": "stream",
     "text": [
      "Sundog SPI Interface File opened\n",
      "Sundog SPI Interface loaded\n",
      "Available Data Structures:\n",
      "* spiParam_sundog,  <class 'dict'> 640\n",
      "* spiCmdDict <class 'dict'> 640\n",
      "* spiRegDict <class 'dict'> 295000\n",
      "'tabulate' package loaded\n",
      "'csv' package loaded\n",
      "Writing Human Readable File...\n"
     ]
    }
   ],
   "source": [
    "# Import the SPI->CSV processor module\n",
    "from SPI2CSV import SPI2CSV\n",
    "\n",
    "# Read chip-specific interface definitions\n",
    "exec(open('spiinfo_sundog.py').read())\n",
    "\n",
    "# Instantiate a SPI interface using the chip-specific definitions\n",
    "SPI = SPI2CSV(spiParam_sundog, spiCmdDict, spiRegDict)\n",
    "\n",
    "# Output a human readable file of the register dictionary\n",
    "SPI.writeRegDict('test.txt', target='readable', omitEnable=True);"
   ]
  },
  {
   "cell_type": "code",
   "execution_count": 29,
   "id": "0d0dfe1d",
   "metadata": {},
   "outputs": [
    {
     "data": {
      "text/plain": [
       "[{'pins': {'spi_csn': True},\n",
       "  'sclk': '32 cycles',\n",
       "  'chipID': '0b00000001',\n",
       "  'command': 70,\n",
       "  'payload': 120,\n",
       "  'mask': 0,\n",
       "  'comment': 'set programming time 10 ms'},\n",
       " {'pins': {'spi_csn': False}, 'sclk': 0},\n",
       " {'pins': {'spi_csn': True},\n",
       "  'sclk': '32 cycles',\n",
       "  'chipID': '0b00000001',\n",
       "  'command': 64,\n",
       "  'payload': 128,\n",
       "  'mask': 0,\n",
       "  'comment': 'set efuse row pointer to 128'},\n",
       " {'pins': {'spi_csn': False}, 'sclk': 0},\n",
       " {'pins': {'spi_csn': True},\n",
       "  'sclk': '32 cycles',\n",
       "  'chipID': '0b00000001',\n",
       "  'command': 65,\n",
       "  'payload': 0,\n",
       "  'mask': 65535,\n",
       "  'comment': 'low 16 bits of UID'},\n",
       " {'pins': {'spi_csn': False}, 'sclk': 0},\n",
       " {'pins': {'spi_csn': True},\n",
       "  'sclk': '32 cycles',\n",
       "  'chipID': '0b00000001',\n",
       "  'command': 66,\n",
       "  'payload': 0,\n",
       "  'mask': 65535,\n",
       "  'comment': 'high 16 bits of UID'},\n",
       " {'pins': {'spi_csn': False}, 'sclk': 0},\n",
       " {'pins': {'spi_csn': True},\n",
       "  'sclk': '4032 cycles',\n",
       "  'chipID': '0b00000001',\n",
       "  'command': 96,\n",
       "  'payload': 0,\n",
       "  'mask': 0,\n",
       "  'comment': 'program row'},\n",
       " {'pins': {'spi_csn': False}, 'sclk': 0}]"
      ]
     },
     "execution_count": 29,
     "metadata": {},
     "output_type": "execute_result"
    }
   ],
   "source": [
    "# SPI Writing Example\n",
    "SPI.flush()\n",
    "SPI.w(1,'EFZ_PROG_TIME',     data = 0x0078, comment='set programming time 10 ms') # Set efuse programming time to 10 ms\n",
    "SPI.w(1,'EFZ_ROW_SET',       data = 0x0080, comment='set efuse row pointer to 128') # Set efuse row pointer to 128\n",
    "SPI.w(1,'EFZ_SET_DATA_LOW',  mask = 0xFFFF, comment='low 16 bits of UID')\n",
    "SPI.w(1,'EFZ_SET_DATA_HIGH', mask = 0xFFFF, comment='high 16 bits of UID')\n",
    "SPI.w(1,'EFZ_PROG_ROW',      clkc = 4032  , comment='program row')\n",
    "# SPI.reset(clkc = 1300,                      comment='issue reset')\n",
    "# SPI.setPin('tr', 1,                         comment='Set EFUSE_FSOURCE to GND')\n",
    "# SPI.r32(1,'Efuse raw data 0',               comment='Set pointer efuse data debug row 128')\n",
    "# SPI.r32(1,'Efuse UID',                      comment='Set pointer to UID')\n",
    "# SPI.writecsv('Sundog Efuse UID test.csv')"
   ]
  },
  {
   "cell_type": "code",
   "execution_count": 40,
   "id": "c547165a",
   "metadata": {},
   "outputs": [
    {
     "data": {
      "text/plain": [
       "'0x0F000000'"
      ]
     },
     "execution_count": 40,
     "metadata": {},
     "output_type": "execute_result"
    }
   ],
   "source": [
    "n     = 0xF0\n",
    "width = 32\n",
    "b = '{:0{width}b}'.format(n, width=width)\n",
    "bi = int(b[::-1], 2)\n",
    "'0x{:0{width}X}'.format(bi, width=width>>2)"
   ]
  }
 ],
 "metadata": {
  "kernelspec": {
   "display_name": "Python 3 (ipykernel)",
   "language": "python",
   "name": "python3"
  },
  "language_info": {
   "codemirror_mode": {
    "name": "ipython",
    "version": 3
   },
   "file_extension": ".py",
   "mimetype": "text/x-python",
   "name": "python",
   "nbconvert_exporter": "python",
   "pygments_lexer": "ipython3",
   "version": "3.9.12"
  }
 },
 "nbformat": 4,
 "nbformat_minor": 5
}
