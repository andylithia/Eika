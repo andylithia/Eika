{
 "cells": [
  {
   "cell_type": "code",
   "execution_count": 7,
   "id": "fd772301",
   "metadata": {
    "scrolled": true
   },
   "outputs": [
    {
     "name": "stdout",
     "output_type": "stream",
     "text": [
      "The autoreload extension is already loaded. To reload it, use:\n",
      "  %reload_ext autoreload\n"
     ]
    }
   ],
   "source": [
    "# IPython Automatically reload external modules\n",
    "%load_ext autoreload\n",
    "%autoreload 2"
   ]
  },
  {
   "cell_type": "code",
   "execution_count": 33,
   "id": "03a1bade",
   "metadata": {
    "scrolled": false
   },
   "outputs": [
    {
     "name": "stdout",
     "output_type": "stream",
     "text": [
      "Sundog SPI Interface File opened\n",
      "Sundog SPI Interface loaded\n",
      "Available Data Structures:\n",
      "* spiParam_sundog,  <class 'dict'> 640\n",
      "* spiCmdDict <class 'dict'> 640\n",
      "* spiRegDict <class 'dict'> 295000\n",
      "'tabulate' package loaded\n",
      "'csv' package loaded\n",
      "Writing Human Readable File...\n"
     ]
    }
   ],
   "source": [
    "# Import the SPI->CSV processor module\n",
    "from SPI2CSV import SPI2CSV\n",
    "\n",
    "# Read chip-specific interface definitions\n",
    "exec(open('../data/Sundog/CONFIDENTIAL/spiinfo_sundog.py').read())\n",
    "\n",
    "# Instantiate a SPI interface using the chip-specific definitions\n",
    "SPI = SPI2CSV(spiParam_sundog, spiCmdDict, spiRegDict)\n",
    "\n",
    "# Output a human readable file of the register dictionary\n",
    "SPI.writeRegDict('test.txt', target='readable', omitEnable=True);"
   ]
  },
  {
   "cell_type": "code",
   "execution_count": 53,
   "id": "e5da1af0",
   "metadata": {},
   "outputs": [
    {
     "data": {
      "text/plain": [
       "[[], [8604, 'r', 0, 16], 'Efuse_data[0:15]', 0]"
      ]
     },
     "execution_count": 53,
     "metadata": {},
     "output_type": "execute_result"
    }
   ],
   "source": [
    "SPI.regDict['Efuse raw data 0']"
   ]
  },
  {
   "cell_type": "code",
   "execution_count": 56,
   "id": "0d0dfe1d",
   "metadata": {
    "scrolled": true
   },
   "outputs": [
    {
     "data": {
      "text/plain": [
       "['reset_n,tr,beam_upd,spi_csn,measure,repeat,spi_clk,din,mask,addr_type,CHIP ID,CMD,DATA,Comment\\n',\n",
       " 'set EFUSE_FSOURCE to 1.5V\\n',\n",
       " '1,0,0,0,,,32 cycles,0x00788C03,0x0000,1,0x0001,0b1000110,0x00000078,set programming time 10 ms\\n',\n",
       " '1,0,0,1,,,0,,,,,,,\\n',\n",
       " '1,0,0,0,,,32 cycles,0x00808003,0x0000,1,0x0001,0b1000000,0x00000080,set efuse row pointer to 128\\n',\n",
       " '1,0,0,1,,,0,,,,,,,\\n',\n",
       " '1,0,0,0,,,32 cycles,0x00008203,0xFFFF0000,1,0x0001,0b1000001,0x00000000,low 16 bits of UID\\n',\n",
       " '1,0,0,1,,,0,,,,,,,\\n',\n",
       " '1,0,0,0,,,32 cycles,0x00008403,0xFFFF0000,1,0x0001,0b1000010,0x00000000,high 16 bits of UID\\n',\n",
       " '1,0,0,1,,,0,,,,,,,\\n',\n",
       " 'Note the following command must have the clock runing extended cycles for the programming timer to count down based on 12 MHz clock I expect this to be > 32*(120+5) cycle + 32 for transaction\\n',\n",
       " '1,0,0,0,,,4032 cycles,0x0000C003,0x0000,1,0x0001,0b1100000,0x00000000,program row\\n',\n",
       " '1,0,0,1,,,0,,,,,,,\\n',\n",
       " 'Set EFUSE_FSOURCE to GND\\n',\n",
       " '0,0,0,0,,,1300 cycles,,,,,,,issue reset\\n',\n",
       " '1,0,0,1,,,0,,,,,,,\\n',\n",
       " '1,0,0,0,,,32 cycles,0x219C0003,0x0000,1,0x0001,0b0000000,0x0000219C,set pointer efuse data debug row 128\\n',\n",
       " '1,0,0,1,,,0,,,,,,,\\n',\n",
       " '1,0,0,0,,,32 cycles,0x00000203,0x0000,1,0x0001,0b0000001,0x00000000,read low 16 bits of data\\n',\n",
       " '1,0,0,1,,,0,,,,,,,\\n',\n",
       " '1,0,0,0,,,32 cycles,0x00000203,0x0000,1,0x0001,0b0000001,0x00000000,read high 16 bits of data\\n',\n",
       " '1,0,0,1,,,0,,,,,,,\\n',\n",
       " '1,0,0,0,,,32 cycles,0x219A0003,0x0000,1,0x0001,0b0000000,0x0000219A,set pointer to UID\\n',\n",
       " '1,0,0,1,,,0,,,,,,,\\n',\n",
       " '1,0,0,0,,,32 cycles,0x00000203,0x0000,1,0x0001,0b0000001,0x00000000,read low 16 bits of data\\n',\n",
       " '1,0,0,1,,,0,,,,,,,\\n',\n",
       " '1,0,0,0,,,32 cycles,0x00000203,0x0000,1,0x0001,0b0000001,0x00000000,read high 16 bits of data\\n',\n",
       " '1,0,0,1,,,0,,,,,,,\\n']"
      ]
     },
     "execution_count": 56,
     "metadata": {},
     "output_type": "execute_result"
    }
   ],
   "source": [
    "# SPI Writing Example\n",
    "SPI.flush()\n",
    "SPI.pinDeposit({'tr':False, 'beam_upd':False})\n",
    "SPI.wCommentLine('set EFUSE_FSOURCE to 1.5V')\n",
    "SPI.w(1,'EFZ_PROG_TIME',     data=0x0078,        comment='set programming time 10 ms') # Set efuse programming time to 10 ms\n",
    "SPI.w(1,'EFZ_ROW_SET',       data=0x0080,        comment='set efuse row pointer to 128') # Set efuse row pointer to 128\n",
    "SPI.w(1,'EFZ_SET_DATA_LOW',  mask=0xFFFF0000,    comment='low 16 bits of UID')\n",
    "SPI.w(1,'EFZ_SET_DATA_HIGH', mask=0xFFFF0000,    comment='high 16 bits of UID')\n",
    "SPI.wCommentLine('Note the following command must have the clock runing extended cycles for the programming timer to count down based on 12 MHz clock I expect this to be > 32*(120+5) cycle + 32 for transaction')\n",
    "SPI.w(1,'EFZ_PROG_ROW',      clkc=4032,          comment='program row')\n",
    "SPI.wCommentLine('Set EFUSE_FSOURCE to GND'                           )\n",
    "SPI.wReset(clkc = 1300,                          comment='issue reset')\n",
    "SPI.pinDeposit({'tr':False}                                           )\n",
    "SPI.w(1,'LOAD_POINTER', data='Efuse raw data 0', comment = 'set pointer efuse data debug row 128')\n",
    "SPI.w(1,'READ_REGISTER',                         comment = 'read low 16 bits of data')\n",
    "SPI.w(1,'READ_REGISTER',                         comment = 'read high 16 bits of data')\n",
    "SPI.w(1,'LOAD_POINTER', data='UID.L',            comment = 'set pointer to UID')\n",
    "SPI.w(1,'READ_REGISTER',                         comment = 'read low 16 bits of data')\n",
    "SPI.w(1,'READ_REGISTER',                         comment = 'read high 16 bits of data')\n",
    "SPI.writeCSV('Sundog Efuse UID test1.csv')\n"
   ]
  },
  {
   "cell_type": "code",
   "execution_count": 36,
   "id": "a2d5857b",
   "metadata": {
    "scrolled": true
   },
   "outputs": [
    {
     "data": {
      "text/plain": [
       "{'spi_clk': '',\n",
       " 'reset_n': False,\n",
       " 'spi_csn': False,\n",
       " 'tr': True,\n",
       " 'beam_upd': False}"
      ]
     },
     "execution_count": 36,
     "metadata": {},
     "output_type": "execute_result"
    }
   ],
   "source": [
    "SPI.pinDeposit({'tr':True})"
   ]
  },
  {
   "cell_type": "code",
   "execution_count": 13,
   "id": "c18c668a",
   "metadata": {},
   "outputs": [
    {
     "name": "stdout",
     "output_type": "stream",
     "text": [
      "[{'pins': {'spi_csn': True}, 'sclk': '32 cycles', 'chipID': '0b00000001', 'command': 70, 'payload': 120, 'mask': 0, 'comment': 'set programming time 10 ms'}, {'pins': {'spi_csn': False}, 'sclk': 0}, {'pins': {'spi_csn': True}, 'sclk': '32 cycles', 'chipID': '0b00000001', 'command': 64, 'payload': 128, 'mask': 0, 'comment': 'set efuse row pointer to 128'}, {'pins': {'spi_csn': False}, 'sclk': 0}, {'pins': {'spi_csn': True}, 'sclk': '32 cycles', 'chipID': '0b00000001', 'command': 65, 'payload': 0, 'mask': 65535, 'comment': 'low 16 bits of UID'}, {'pins': {'spi_csn': False}, 'sclk': 0}, {'pins': {'spi_csn': True}, 'sclk': '32 cycles', 'chipID': '0b00000001', 'command': 66, 'payload': 0, 'mask': 65535, 'comment': 'high 16 bits of UID'}, {'pins': {'spi_csn': False}, 'sclk': 0}, {'pins': {'spi_csn': True}, 'sclk': '4032 cycles', 'chipID': '0b00000001', 'command': 96, 'payload': 0, 'mask': 0, 'comment': 'program row'}, {'pins': {'spi_csn': False}, 'sclk': 0}]\n"
     ]
    },
    {
     "data": {
      "text/plain": [
       "[{'pins': {'spi_csn': True},\n",
       "  'sclk': '32 cycles',\n",
       "  'chipID': '0b00000001',\n",
       "  'command': 70,\n",
       "  'payload': 120,\n",
       "  'mask': 0,\n",
       "  'comment': 'set programming time 10 ms'},\n",
       " {'pins': {'spi_csn': False}, 'sclk': 0},\n",
       " {'pins': {'spi_csn': True},\n",
       "  'sclk': '32 cycles',\n",
       "  'chipID': '0b00000001',\n",
       "  'command': 64,\n",
       "  'payload': 128,\n",
       "  'mask': 0,\n",
       "  'comment': 'set efuse row pointer to 128'},\n",
       " {'pins': {'spi_csn': False}, 'sclk': 0},\n",
       " {'pins': {'spi_csn': True},\n",
       "  'sclk': '32 cycles',\n",
       "  'chipID': '0b00000001',\n",
       "  'command': 65,\n",
       "  'payload': 0,\n",
       "  'mask': 65535,\n",
       "  'comment': 'low 16 bits of UID'},\n",
       " {'pins': {'spi_csn': False}, 'sclk': 0},\n",
       " {'pins': {'spi_csn': True},\n",
       "  'sclk': '32 cycles',\n",
       "  'chipID': '0b00000001',\n",
       "  'command': 66,\n",
       "  'payload': 0,\n",
       "  'mask': 65535,\n",
       "  'comment': 'high 16 bits of UID'},\n",
       " {'pins': {'spi_csn': False}, 'sclk': 0},\n",
       " {'pins': {'spi_csn': True},\n",
       "  'sclk': '4032 cycles',\n",
       "  'chipID': '0b00000001',\n",
       "  'command': 96,\n",
       "  'payload': 0,\n",
       "  'mask': 0,\n",
       "  'comment': 'program row'},\n",
       " {'pins': {'spi_csn': False}, 'sclk': 0}]"
      ]
     },
     "execution_count": 13,
     "metadata": {},
     "output_type": "execute_result"
    }
   ],
   "source": [
    "SPI.showOBuf()"
   ]
  },
  {
   "cell_type": "code",
   "execution_count": 40,
   "id": "c547165a",
   "metadata": {},
   "outputs": [
    {
     "data": {
      "text/plain": [
       "'0x0F000000'"
      ]
     },
     "execution_count": 40,
     "metadata": {},
     "output_type": "execute_result"
    }
   ],
   "source": [
    "n     = 0xF0\n",
    "width = 32\n",
    "b = '{:0{width}b}'.format(n, width=width)\n",
    "bi = int(b[::-1], 2)\n",
    "'0x{:0{width}X}'.format(bi, width=width>>2)"
   ]
  }
 ],
 "metadata": {
  "kernelspec": {
   "display_name": "Python 3 (ipykernel)",
   "language": "python",
   "name": "python3"
  },
  "language_info": {
   "codemirror_mode": {
    "name": "ipython",
    "version": 3
   },
   "file_extension": ".py",
   "mimetype": "text/x-python",
   "name": "python",
   "nbconvert_exporter": "python",
   "pygments_lexer": "ipython3",
   "version": "3.8.10"
  }
 },
 "nbformat": 4,
 "nbformat_minor": 5
}
