{
 "cells": [
  {
   "cell_type": "code",
   "execution_count": 1,
   "id": "3176258d-7ed2-4765-bd42-f30a0ce3b0f8",
   "metadata": {},
   "outputs": [],
   "source": [
    "import matplotlib.pyplot as plt\n",
    "import numpy as np\n",
    "from PIL import Image\n",
    "import gdspy\n",
    "ld_AP = {\"layer\":74, \"datatype\": 0}"
   ]
  },
  {
   "cell_type": "code",
   "execution_count": 3,
   "id": "30b3e0e3-ad64-41c2-8967-d4d85af1e97f",
   "metadata": {},
   "outputs": [],
   "source": [
    "lib = gdspy.GdsLibrary(infile='AL_AP_artwork_test.gds', unit = 1e-9)\n",
    "cell = lib.cells['AL_AP_artwork_test']\n"
   ]
  },
  {
   "cell_type": "code",
   "execution_count": 9,
   "id": "8d0f9a47-1472-4180-848e-f42e4ac380d0",
   "metadata": {},
   "outputs": [
    {
     "data": {
      "text/plain": [
       "1e-09"
      ]
     },
     "execution_count": 9,
     "metadata": {},
     "output_type": "execute_result"
    }
   ],
   "source": [
    "lib."
   ]
  },
  {
   "cell_type": "code",
   "execution_count": null,
   "id": "40a472ec-ebbc-45db-bb80-530f6cd10bcb",
   "metadata": {},
   "outputs": [],
   "source": []
  }
 ],
 "metadata": {
  "kernelspec": {
   "display_name": "Python 3 (ipykernel)",
   "language": "python",
   "name": "python3"
  },
  "language_info": {
   "codemirror_mode": {
    "name": "ipython",
    "version": 3
   },
   "file_extension": ".py",
   "mimetype": "text/x-python",
   "name": "python",
   "nbconvert_exporter": "python",
   "pygments_lexer": "ipython3",
   "version": "3.8.10"
  }
 },
 "nbformat": 4,
 "nbformat_minor": 5
}
