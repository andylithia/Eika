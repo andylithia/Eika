{
 "cells": [
  {
   "cell_type": "code",
   "execution_count": 24,
   "id": "2da3b3cf",
   "metadata": {},
   "outputs": [],
   "source": [
    "import matplotlib.pyplot as plt\n",
    "import numpy as np"
   ]
  },
  {
   "cell_type": "code",
   "execution_count": 145,
   "id": "90b32a60",
   "metadata": {},
   "outputs": [
    {
     "ename": "AttributeError",
     "evalue": "'numpy.ndarray' object has no attribute 'convert'",
     "output_type": "error",
     "traceback": [
      "\u001b[0;31m---------------------------------------------------------------------------\u001b[0m",
      "\u001b[0;31mAttributeError\u001b[0m                            Traceback (most recent call last)",
      "\u001b[0;32m<ipython-input-145-b8a430f24c65>\u001b[0m in \u001b[0;36m<module>\u001b[0;34m\u001b[0m\n\u001b[0;32m----> 1\u001b[0;31m \u001b[0mk\u001b[0m \u001b[0;34m=\u001b[0m \u001b[0mplt\u001b[0m\u001b[0;34m.\u001b[0m\u001b[0mimread\u001b[0m\u001b[0;34m(\u001b[0m\u001b[0;34m'AMK.png'\u001b[0m\u001b[0;34m)\u001b[0m\u001b[0;34m.\u001b[0m\u001b[0mconvert\u001b[0m\u001b[0;34m(\u001b[0m\u001b[0;34m'LA'\u001b[0m\u001b[0;34m)\u001b[0m\u001b[0;34m\u001b[0m\u001b[0;34m\u001b[0m\u001b[0m\n\u001b[0m",
      "\u001b[0;31mAttributeError\u001b[0m: 'numpy.ndarray' object has no attribute 'convert'"
     ]
    }
   ],
   "source": []
  },
  {
   "cell_type": "code",
   "execution_count": 44,
   "id": "3353a76e",
   "metadata": {},
   "outputs": [],
   "source": [
    "\n",
    "XLIM = 850;\n",
    "YLIM = 850;\n",
    "XSTEP = 850/5;\n",
    "YSTEP = 850/5;\n",
    "\n",
    "# AP Record Format\n",
    "# Rectangle [X0, Y0, dX, dY]\n",
    "AP_data = [\n",
    "    [0,0, 3,3],\n",
    "    [0,5, 3,3],\n",
    "    [0,10,3,3],\n",
    "]\n",
    "\n",
    "# \n",
    "def export_EDIF(data):\n",
    "    d = '';\n",
    "    for line in data:\n",
    "        d = d + \"(figure AP (rectangle (pt {X0:d} {Y0:d}) (pt {X1:d} {Y1:d})))\\n\".format(X0=line[0], Y0=line[1], X1=line[0]+line[2], Y1=line[1]+line[3])\n",
    "    return d;\n",
    "    "
   ]
  },
  {
   "cell_type": "code",
   "execution_count": 23,
   "id": "7e5584d6",
   "metadata": {},
   "outputs": [
    {
     "name": "stdout",
     "output_type": "stream",
     "text": [
      "(figure AP (rectangle (pt 0 0) (pt 3 3)))\n",
      "(figure AP (rectangle (pt 0 5) (pt 3 8)))\n",
      "(figure AP (rectangle (pt 0 10) (pt 3 13)))\n",
      "\n"
     ]
    }
   ],
   "source": [
    "print(export_EDIF(AP_data))"
   ]
  },
  {
   "cell_type": "code",
   "execution_count": 43,
   "id": "ddc7d2b8",
   "metadata": {
    "scrolled": true
   },
   "outputs": [
    {
     "data": {
      "text/plain": [
       "<matplotlib.image.AxesImage at 0x7fdac8a4e220>"
      ]
     },
     "execution_count": 43,
     "metadata": {},
     "output_type": "execute_result"
    },
    {
     "data": {
      "image/png": "[encoded data removed]",
      "text/plain": [
       "<Figure size 432x288 with 1 Axes>"
      ]
     },
     "metadata": {
      "needs_background": "light"
     },
     "output_type": "display_data"
    }
   ],
   "source": [
    "plt.imshow(np.multiply(255,b),origin='lower')"
   ]
  },
  {
   "cell_type": "code",
   "execution_count": 146,
   "id": "d4aa7075",
   "metadata": {},
   "outputs": [],
   "source": [
    "# GDSII I/O Test\n",
    "from gdsii.library import Library\n",
    "from gdsii.elements import *\n",
    "import matplotlib.pyplot as plt\n",
    "import numpy as np\n",
    "from PIL import Image"
   ]
  },
  {
   "cell_type": "code",
   "execution_count": 90,
   "id": "fe9fc2a7",
   "metadata": {},
   "outputs": [],
   "source": [
    "# read a library from a file\n",
    "with open('AL_AP_artwork_test.gds', 'rb') as stream:\n",
    "    lib = Library.load(stream)\n",
    "# let's move the first structure to a new library\n",
    "# new_lib = Library(5, b'NEWLIB.DB', 1e-9, 0.001)\n",
    "struc = lib.pop(0) # libraries and structures are derived from list class\n",
    "# new_lib.append(struc)\n",
    " "
   ]
  },
  {
   "cell_type": "code",
   "execution_count": 409,
   "id": "0829906c",
   "metadata": {},
   "outputs": [],
   "source": [
    "lib.masks"
   ]
  },
  {
   "cell_type": "code",
   "execution_count": 390,
   "id": "ff22ce8c",
   "metadata": {},
   "outputs": [],
   "source": [
    "def blit(dest, src, loc):\n",
    "    pos = [i if i >= 0 else None for i in loc]\n",
    "    neg = [-i if i < 0 else None for i in loc]\n",
    "    target = dest[[slice(i,None) for i in pos]]\n",
    "    src = src[[slice(i, j) for i,j in zip(neg, target.shape)]]\n",
    "    target[[slice(None, i) for i in src.shape]] = src\n",
    "    return dest"
   ]
  },
  {
   "cell_type": "code",
   "execution_count": 91,
   "id": "564d1386",
   "metadata": {},
   "outputs": [],
   "source": [
    "s1 = struc.copy()"
   ]
  },
  {
   "cell_type": "code",
   "execution_count": 395,
   "id": "d4babf79",
   "metadata": {},
   "outputs": [],
   "source": [
    "e1 = s1[0]"
   ]
  },
  {
   "cell_type": "code",
   "execution_count": 402,
   "id": "3306bca0",
   "metadata": {},
   "outputs": [
    {
     "data": {
      "text/plain": [
       "[(205000, 985000),\n",
       " (208000, 985000),\n",
       " (208000, 988000),\n",
       " (205000, 988000),\n",
       " (205000, 985000)]"
      ]
     },
     "execution_count": 402,
     "metadata": {},
     "output_type": "execute_result"
    }
   ],
   "source": [
    "e1.xy"
   ]
  },
  {
   "cell_type": "code",
   "execution_count": 392,
   "id": "7cac5c37",
   "metadata": {
    "scrolled": false
   },
   "outputs": [
    {
     "name": "stderr",
     "output_type": "stream",
     "text": [
      "<ipython-input-390-beb2877c9526>:4: FutureWarning: Using a non-tuple sequence for multidimensional indexing is deprecated; use `arr[tuple(seq)]` instead of `arr[seq]`. In the future this will be interpreted as an array index, `arr[np.array(seq)]`, which will result either in an error or a different result.\n",
      "  target = dest[[slice(i,None) for i in pos]]\n",
      "<ipython-input-390-beb2877c9526>:5: FutureWarning: Using a non-tuple sequence for multidimensional indexing is deprecated; use `arr[tuple(seq)]` instead of `arr[seq]`. In the future this will be interpreted as an array index, `arr[np.array(seq)]`, which will result either in an error or a different result.\n",
      "  src = src[[slice(i, j) for i,j in zip(neg, target.shape)]]\n",
      "<ipython-input-390-beb2877c9526>:6: FutureWarning: Using a non-tuple sequence for multidimensional indexing is deprecated; use `arr[tuple(seq)]` instead of `arr[seq]`. In the future this will be interpreted as an array index, `arr[np.array(seq)]`, which will result either in an error or a different result.\n",
      "  target[[slice(None, i) for i in src.shape]] = src\n"
     ]
    },
    {
     "name": "stdout",
     "output_type": "stream",
     "text": [
      "2050.0 9850.0 2080.0 9880.0\n",
      "2000.0 9850.0 2030.0 9880.0\n",
      "1950.0 9850.0 1980.0 9880.0\n",
      "1900.0 9850.0 1930.0 9880.0\n",
      "1850.0 9850.0 1880.0 9880.0\n",
      "1800.0 9850.0 1830.0 9880.0\n",
      "1750.0 9850.0 1780.0 9880.0\n",
      "1700.0 9850.0 1730.0 9880.0\n",
      "1650.0 9850.0 1680.0 9880.0\n",
      "1600.0 9850.0 1630.0 9880.0\n",
      "1550.0 9850.0 1580.0 9880.0\n",
      "1500.0 9850.0 1530.0 9880.0\n",
      "1450.0 9850.0 1480.0 9880.0\n",
      "1400.0 9850.0 1430.0 9880.0\n",
      "1350.0 9850.0 1380.0 9880.0\n",
      "1300.0 9850.0 1330.0 9880.0\n",
      "1250.0 9850.0 1280.0 9880.0\n",
      "1200.0 9850.0 1230.0 9880.0\n",
      "1750.0 9900.0 1780.0 9930.0\n",
      "1800.0 9900.0 1830.0 9930.0\n",
      "1850.0 9900.0 1880.0 9930.0\n",
      "1900.0 9900.0 1930.0 9930.0\n",
      "1950.0 9900.0 1980.0 9930.0\n",
      "2000.0 9900.0 2030.0 9930.0\n",
      "2050.0 9900.0 2080.0 9930.0\n",
      "2100.0 9900.0 2130.0 9930.0\n",
      "2150.0 9900.0 2180.0 9930.0\n",
      "2200.0 9900.0 2230.0 9930.0\n",
      "1700.0 9900.0 1730.0 9930.0\n",
      "1650.0 9900.0 1680.0 9930.0\n",
      "1600.0 9900.0 1630.0 9930.0\n",
      "1550.0 9900.0 1580.0 9930.0\n",
      "1500.0 9900.0 1530.0 9930.0\n",
      "1450.0 9900.0 1480.0 9930.0\n",
      "1400.0 9900.0 1430.0 9930.0\n",
      "1350.0 9900.0 1380.0 9930.0\n",
      "1300.0 9900.0 1330.0 9930.0\n",
      "1250.0 9900.0 1280.0 9930.0\n",
      "1200.0 9900.0 1230.0 9930.0\n"
     ]
    },
    {
     "data": {
      "image/png": "[encoded data removed]",
      "text/plain": [
       "<Figure size 432x288 with 1 Axes>"
      ]
     },
     "metadata": {
      "needs_background": "light"
     },
     "output_type": "display_data"
    }
   ],
   "source": [
    "b = np.zeros((10000,10000));\n",
    "for s in s1:\n",
    "    x0 = s.xy[0][0]/100;\n",
    "    y0 = s.xy[0][1]/100;\n",
    "    x1 = s.xy[2][0]/100;\n",
    "    y1 = s.xy[2][1]/100;\n",
    "    APbox = np.ones((int(x1-x0),int(y1-y0)));\n",
    "    b = blit(b, APbox, (int(y0),int(x0)));\n",
    "    print(x0,y0,x1,y1);\n",
    "b = np.flipud(np.dot(b,256));\n",
    "plt.imshow(b);\n",
    "plt.imsave('GDS_render.png',b);"
   ]
  },
  {
   "cell_type": "code",
   "execution_count": 404,
   "id": "a5951c49",
   "metadata": {},
   "outputs": [
    {
     "data": {
      "image/png": "[encoded data removed]",
      "text/plain": [
       "<Figure size 432x288 with 1 Axes>"
      ]
     },
     "metadata": {
      "needs_background": "light"
     },
     "output_type": "display_data"
    }
   ],
   "source": [
    "imgname = 'ETO'\n",
    "\n",
    "k = Image.open(imgname+'.png').convert('L')\n",
    "ksize = k.size\n",
    "k_target_h = 85; # Unit is 5 um\n",
    "k_scaling  = k_target_h/ksize[1]\n",
    "ksize1 = np.dot(ksize,k_scaling).astype(int)\n",
    "ksize2 = [ksize1[0],    ksize1[1]*10]\n",
    "ksize3 = [ksize1[0]*10, ksize1[1]*10]\n",
    "kr = k.resize(ksize2)\n",
    "kr = kr.resize(ksize3,Image.NEAREST)\n",
    "ka1 = (np.array(kr)>128).transpose()\n",
    "kd = np.zeros(ksize2);\n",
    "# KA1 UNIT: 0.5um\n",
    "for i in range(ksize3[0]):\n",
    "    if((i%10)==0):\n",
    "        iq = int(i/10);\n",
    "        # GAP FILLING\n",
    "        # The problem with this approach is that the gap tend to get shifted to one direction\n",
    "        # Consider a sliding-window approach if that's causing trouble\n",
    "        #\n",
    "        # Unit: 0.5um\n",
    "        # DRC Rule requires that AP gap must > 2um    \n",
    "        gap_counter = 4\n",
    "        gap_pol = 0;\n",
    "        for j in range(ksize3[1]):\n",
    "            pixel = ka1[iq*10][j]\n",
    "            if(pixel):\n",
    "                if(gap_pol):\n",
    "                    # The gap was bright\n",
    "                    kd[iq][j]   = 255\n",
    "                    gap_counter = gap_counter + 1\n",
    "                else:\n",
    "                    # The gap was dark\n",
    "                    if((gap_counter>=4)):\n",
    "                        # Flip to the bright side\n",
    "                        kd[iq][j]   = 255\n",
    "                        gap_counter = 0\n",
    "                        gap_pol     = 1\n",
    "                    else:\n",
    "                        # Stay in the dark\n",
    "                        kd[iq][j]   = 0\n",
    "                        gap_counter = gap_counter + 1\n",
    "            else :\n",
    "                if(gap_pol):\n",
    "                    # The gap was bright\n",
    "                    if((gap_counter>=6)):\n",
    "                        # Flip to the dark side\n",
    "                        kd[iq][j]   = 0\n",
    "                        gap_counter = 0\n",
    "                        gap_pol     = 0\n",
    "                    else:\n",
    "                        # Stay in the light\n",
    "                        kd[iq][j]   = 255\n",
    "                        gap_counter = gap_counter + 1\n",
    "                else:\n",
    "                    # The gap was dark\n",
    "                    kd[iq][j]   = 0\n",
    "                    gap_counter = gap_counter + 1\n",
    "                \n",
    "    if((i%10)>=6):\n",
    "        ka1[i] = 0\n",
    "        \n",
    "ka1 = ka1.transpose()\n",
    "#plt.imshow(ka1)\n",
    "#plt.imsave('AMK_conv.png',ka1);\n",
    "\n",
    "kd_pil = np.array(Image.fromarray(np.uint8(kd.transpose())).resize(ksize3, Image.NEAREST)).transpose()\n",
    "\n",
    "for i in range(ksize3[0]):\n",
    "    if((i%10)>=6):\n",
    "        kd_pil[i] = 0\n",
    "kd_pil = kd_pil.transpose()\n",
    "plt.imshow(kd_pil)\n",
    "plt.imsave(imgname+'_conv.png',kd_pil);\n",
    "\n",
    "# Image.fromarray(ka1)"
   ]
  },
  {
   "cell_type": "code",
   "execution_count": 368,
   "id": "001a4b67",
   "metadata": {},
   "outputs": [
    {
     "data": {
      "text/plain": [
       "<matplotlib.image.AxesImage at 0x7fad93137880>"
      ]
     },
     "execution_count": 368,
     "metadata": {},
     "output_type": "execute_result"
    },
    {
     "data": {
      "image/png": "[encoded data removed]",
      "text/plain": [
       "<Figure size 432x288 with 1 Axes>"
      ]
     },
     "metadata": {
      "needs_background": "light"
     },
     "output_type": "display_data"
    }
   ],
   "source": [
    "plt.imshow(kd)"
   ]
  },
  {
   "cell_type": "code",
   "execution_count": 383,
   "id": "1c8dabf8",
   "metadata": {},
   "outputs": [
    {
     "name": "stdout",
     "output_type": "stream",
     "text": [
      "DIV FACTOR: 42\n",
      "DIV FACTOR: 42\n"
     ]
    },
    {
     "data": {
      "image/png": "[encoded data removed]",
      "text/plain": [
       "<Figure size 432x288 with 1 Axes>"
      ]
     },
     "metadata": {
      "needs_background": "light"
     },
     "output_type": "display_data"
    }
   ],
   "source": [
    "# Constant Spacing\n",
    "imgname = 'AMK'\n",
    "gapsize = 1;\n",
    "k = Image.open(imgname+'.png').convert('L')\n",
    "ksize = k.size\n",
    "k_target_h = 85; # Unit is 5 um\n",
    "k_scaling  = k_target_h/ksize[0]\n",
    "ksize1 = np.dot(ksize,k_scaling).astype(int)\n",
    "ksize2 = [ksize1[0],    ksize1[1]*10]\n",
    "ksize3 = [ksize1[0]*10, ksize1[1]*10]\n",
    "kr = np.array(k.resize(ksize1))\n",
    "kr_dithered = (dither(kr, k_stucki,16)<<2);\n",
    "kr_ditq = (dither(kr, k_stucki,16)<<2)>128;\n",
    "strel = np.ones((gapsize, gapsize))\n",
    "kr_ditq_di = ~binary_dilation(kr_ditq, structure=strel)\n",
    "\n",
    "kr_dithered_10x   = np.array(Image.fromarray(kr_ditq).resize(ksize3,Image.NEAREST))\n",
    "kr_dithered_10x_i = np.array(Image.fromarray(kr_ditq_di).resize(ksize3,Image.NEAREST))\n",
    "\n",
    "kr_dithered_10x = kr_dithered_10x.transpose()\n",
    "for i in range(ksize3[0]):\n",
    "    if((i%10)>=6):\n",
    "        kr_dithered_10x[i] = 0\n",
    "kr_dithered_10x = kr_dithered_10x.transpose()\n",
    "\n",
    "\n",
    "for i in range(ksize3[1]):\n",
    "    if((i%10)>=6):\n",
    "        kr_dithered_10x_i[i] = 0\n",
    "kr_final = kr_dithered_10x + kr_dithered_10x_i;\n",
    "\n",
    "plt.imshow(kr_final)\n",
    "plt.imsave(imgname+'_hv.png',kr_final)\n",
    "kr_dithered_10x_i = np.array(Image.fromarray(kr_dithered).resize(ksize3))"
   ]
  },
  {
   "cell_type": "code",
   "execution_count": 334,
   "id": "1f20575a",
   "metadata": {},
   "outputs": [
    {
     "data": {
      "text/plain": [
       "<matplotlib.image.AxesImage at 0x7fad908c8d00>"
      ]
     },
     "execution_count": 334,
     "metadata": {},
     "output_type": "execute_result"
    },
    {
     "data": {
      "image/png": "[encoded data removed]",
      "text/plain": [
       "<Figure size 432x288 with 1 Axes>"
      ]
     },
     "metadata": {
      "needs_background": "light"
     },
     "output_type": "display_data"
    }
   ],
   "source": [
    "## kr_dithered_10x\n",
    "import numpy as np\n",
    "from scipy.ndimage.morphology import binary_dilation\n",
    "strel = np.ones((4, 4))\n",
    "dilated = binary_dilation(kr_dithered_10x_i, structure=strel)\n",
    "plt.imshow(dilated)"
   ]
  },
  {
   "cell_type": "code",
   "execution_count": 328,
   "id": "527bcaea",
   "metadata": {},
   "outputs": [
    {
     "data": {
      "text/plain": [
       "<matplotlib.image.AxesImage at 0x7fade1a05580>"
      ]
     },
     "execution_count": 328,
     "metadata": {},
     "output_type": "execute_result"
    },
    {
     "data": {
      "image/png": "[encoded data removed]",
      "text/plain": [
       "<Figure size 432x288 with 1 Axes>"
      ]
     },
     "metadata": {
      "needs_background": "light"
     },
     "output_type": "display_data"
    }
   ],
   "source": [
    "## GDS Write to new library and save\n",
    "with open('Output.gds', 'wb') as stream:\n",
    "    lib.save(stream)\n",
    "with open('Output2.gds', 'wb') as stream:\n",
    "    new_lib.save(stream)\n",
    "    \n",
    "    "
   ]
  },
  {
   "cell_type": "code",
   "execution_count": 279,
   "id": "9987aca8",
   "metadata": {},
   "outputs": [
    {
     "name": "stdout",
     "output_type": "stream",
     "text": [
      "DIV FACTOR: 42\n"
     ]
    }
   ],
   "source": [
    "import sys\n",
    "import os\n",
    "import numpy as np\n",
    "from PIL import Image\n",
    "from math import sqrt\n",
    "\n",
    "k_fs = [\n",
    "        0,0,0,7,0,\n",
    "        0,3,5,1,0,\n",
    "        0,0,0,0,0\n",
    "    ]\n",
    "\n",
    "\n",
    "k_jjn = [\n",
    "        0,0,0,7,5,\n",
    "        3,5,7,5,3,\n",
    "        1,3,5,3,1\n",
    "    ]\n",
    "\n",
    "\n",
    "k_stucki = [\n",
    "        0,0,0,8,4,\n",
    "        2,4,8,4,2,\n",
    "        1,2,4,2,1\n",
    "    ]\n",
    "\n",
    "\n",
    "k_s2 = [\n",
    "        0,0,0,4,3,\n",
    "        1,2,3,2,1,\n",
    "        0,0,0,0,0\n",
    "    ]\n",
    "\n",
    "k_s3 = [\n",
    "        0,0,0,5,3,\n",
    "        2,4,5,4,2,\n",
    "        0,2,3,2,0\n",
    "    ]\n",
    "\n",
    "k_s24a = [\n",
    "        0,0,0,2,0,\n",
    "        0,1,1,0,0,\n",
    "        0,0,0,0,0\n",
    "    ]\n",
    "\n",
    "\n",
    "def dither(image, kernel, strength=1):\n",
    "    pixels = image.copy()>>2\n",
    "    xl = pixels.shape[0]\n",
    "    yl = pixels.shape[1]\n",
    "\n",
    "    DIV_FACTOR = sum(kernel)\n",
    "    print(\"DIV FACTOR:\", DIV_FACTOR)\n",
    "    for y in range(yl):\n",
    "        for x in range(xl):\n",
    "            oldpixel = pixels[x][y]\n",
    "            newpixel = 63*(oldpixel>31)\n",
    "            pixels[x][y] = newpixel\n",
    "            quant_error = (oldpixel - newpixel)/strength\n",
    "\n",
    "            if (x<xl-1):\n",
    "                pixels[x+1][y]   += quant_error*kernel[3]/DIV_FACTOR\n",
    "            if (x<xl-2):\n",
    "                pixels[x+2][y]   += quant_error*kernel[4]/DIV_FACTOR\n",
    "                \n",
    "            if (y<yl-1):\n",
    "                if (x>1):\n",
    "                    pixels[x-2][y+1] += quant_error*kernel[5]/DIV_FACTOR\n",
    "                if (x>0):\n",
    "                    pixels[x-1][y+1] += quant_error*kernel[6]/DIV_FACTOR\n",
    "                    pixels[x][y+1]   += quant_error*kernel[7]/DIV_FACTOR\n",
    "                if (x<xl-1):\n",
    "                    pixels[x+1][y+1] += quant_error*kernel[8]/DIV_FACTOR\n",
    "                if (x<xl-2):\n",
    "                    pixels[x+2][y+1] += quant_error*kernel[9]/DIV_FACTOR\n",
    "                \n",
    "            if (y<yl-2):\n",
    "                if (x>1):\n",
    "                    pixels[x-2][y+2] += quant_error*kernel[10]/DIV_FACTOR\n",
    "                if (x>0):\n",
    "                    pixels[x-1][y+2] += quant_error*kernel[11]/DIV_FACTOR\n",
    "                    pixels[x][y+2]   += quant_error*kernel[12]/DIV_FACTOR\n",
    "                if (x<xl-1):\n",
    "                    pixels[x+1][y+2] += quant_error*kernel[13]/DIV_FACTOR\n",
    "                if (x<xl-2):\n",
    "                    pixels[x+2][y+2] += quant_error*kernel[14]/DIV_FACTOR\n",
    " \n",
    "    return pixels\n",
    "\n",
    "\n",
    "filename = 'AMK.png'\n",
    "ai = np.array(Image.open(filename).convert('L'),\"int16\")\n",
    "img = Image.fromarray(dither(ai, k_stucki,2)<<2)\n",
    "img.show()\n",
    "\n",
    "# Note: Stucki is one of the few that can work with pure integer"
   ]
  }
 ],
 "metadata": {
  "kernelspec": {
   "display_name": "Python 3",
   "language": "python",
   "name": "python3"
  },
  "language_info": {
   "codemirror_mode": {
    "name": "ipython",
    "version": 3
   },
   "file_extension": ".py",
   "mimetype": "text/x-python",
   "name": "python",
   "nbconvert_exporter": "python",
   "pygments_lexer": "ipython3",
   "version": "3.8.8"
  }
 },
 "nbformat": 4,
 "nbformat_minor": 5
}
