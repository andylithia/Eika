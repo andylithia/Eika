{
 "cells": [
  {
   "cell_type": "code",
   "execution_count": 1,
   "id": "d4aa7075",
   "metadata": {},
   "outputs": [],
   "source": [
    "import matplotlib.pyplot as plt\n",
    "import numpy as np\n",
    "from PIL import Image\n",
    "import gdspy\n",
    "ld_AP = {\"layer\":74, \"datatype\": 0}"
   ]
  },
  {
   "cell_type": "code",
   "execution_count": 5,
   "id": "970c823b",
   "metadata": {},
   "outputs": [],
   "source": [
    "lib = gdspy.GdsLibrary(infile='AL_AP_artwork_test.gds', unit = 1e-9)\n",
    "cell = lib.cells['AL_AP_artwork_test']\n",
    "for sq in boundary_output:\n",
    "    rect = gdspy.Rectangle((sq[0]/1000.0,1000-sq[2]/1000.0),(sq[1]/1000.0,1000-sq[3]/1000.0),**ld_AP)\n",
    "    cell.add(rect)\n",
    "cell.write_svg('Test.svg')\n",
    "lib.write_gds('AL_AP_artwork_output.gds')\n"
   ]
  },
  {
   "cell_type": "code",
   "execution_count": 6,
   "id": "a578a9e5",
   "metadata": {},
   "outputs": [
    {
     "data": {
      "text/plain": [
       "874"
      ]
     },
     "execution_count": 6,
     "metadata": {},
     "output_type": "execute_result"
    }
   ],
   "source": [
    "\n",
    "len(cell.get_polygons())"
   ]
  },
  {
   "cell_type": "code",
   "execution_count": 4,
   "id": "a5951c49",
   "metadata": {
    "scrolled": true
   },
   "outputs": [
    {
     "data": {
      "image/png": "[encoded data removed]",
      "text/plain": [
       "<Figure size 432x288 with 1 Axes>"
      ]
     },
     "metadata": {
      "needs_background": "light"
     },
     "output_type": "display_data"
    }
   ],
   "source": [
    "imgname = 'AMK'\n",
    "\n",
    "k = Image.open(imgname+'.png').convert('L')\n",
    "ksize = k.size\n",
    "k_target_h = 200; # Unit is 5 um, Physical Size: 425 um\n",
    "k_scaling  = k_target_h/ksize[0]\n",
    "ksize1 = np.dot(ksize,k_scaling).astype(int)\n",
    "ksize2 = [ksize1[0],    ksize1[1]*10]\n",
    "ksize3 = [ksize1[0]*10, ksize1[1]*10]\n",
    "kr = k.resize(ksize2)\n",
    "kr = kr.resize(ksize3,Image.NEAREST)\n",
    "ka1 = (np.array(kr)>128).transpose()\n",
    "kd = np.zeros(ksize2);\n",
    "boundary_output = [];\n",
    "\n",
    "# KA1 UNIT: 0.5um\n",
    "for i in range(ksize3[0]):\n",
    "    if((i%10)==0):\n",
    "        iq = int(i/10); \n",
    "        # GAP FILLING\n",
    "        # The problem with this approach is that the gap tend to get shifted to one direction\n",
    "        # Consider a sliding-window approach if that's causing trouble\n",
    "        #\n",
    "        # Unit: 0.5um\n",
    "        # DRC Rule requires that AP gap must > 2um    \n",
    "        gap_counter = 5\n",
    "        gap_pol     = ka1[iq*10][0]\n",
    "        # rec_started = False; \n",
    "        if(gap_pol):\n",
    "            # Start Stripe Record\n",
    "            y0 = 0\n",
    "            # Use gap_pol as the Record Started flag\n",
    "            # rec_started = True;\n",
    "            \n",
    "        for j in range(ksize3[1]):\n",
    "            pixel = ka1[iq*10][j]\n",
    "            if(pixel):\n",
    "                if(gap_pol):\n",
    "                    # The gap was bright\n",
    "                    kd[iq][j]   = 255\n",
    "                    gap_counter = gap_counter + 1\n",
    "                else:\n",
    "                    # The gap was dark\n",
    "                    if((gap_counter>=5)):\n",
    "                        # Flip to the bright side\n",
    "                        kd[iq][j]   = 255\n",
    "                        gap_counter = 0\n",
    "                        gap_pol     = 1\n",
    "                        y0 = j;\n",
    "                        \n",
    "                    else:\n",
    "                        # Stay in the dark\n",
    "                        kd[iq][j]   = 0\n",
    "                        gap_counter = gap_counter + 1\n",
    "            else :\n",
    "                if(gap_pol):\n",
    "                    # The gap was bright\n",
    "                    if((gap_counter>=5)):\n",
    "                        # Flip to the dark side\n",
    "                        kd[iq][j]   = 0\n",
    "                        gap_counter = 0\n",
    "                        gap_pol     = 0\n",
    "                        y1 = j;\n",
    "                        boundary_output.append((iq*5*1000,(iq*5+3)*1000, y0*500,y1*500)) # Unit: nm\n",
    "                    else:\n",
    "                        # Stay in the light\n",
    "                        kd[iq][j]   = 255\n",
    "                        gap_counter = gap_counter + 1\n",
    "                else:\n",
    "                    # The gap was dark\n",
    "                    kd[iq][j]   = 0\n",
    "                    gap_counter = gap_counter + 1\n",
    "                \n",
    "    if((i%10)>=5):\n",
    "        ka1[i] = 0\n",
    "        \n",
    "ka1 = ka1.transpose()\n",
    "#plt.imshow(ka1)\n",
    "#plt.imsave('AMK_conv.png',ka1);\n",
    "\n",
    "kd_pil = np.array(Image.fromarray(np.uint8(kd.transpose())).resize(ksize3, Image.NEAREST)).transpose()\n",
    "\n",
    "for i in range(ksize3[0]):\n",
    "    if((i%10)>=6):\n",
    "        kd_pil[i] = 0\n",
    "kd_pil = kd_pil.transpose()\n",
    "plt.imshow(kd_pil)\n",
    "plt.imsave(imgname+'_conv.png',kd_pil);\n",
    "\n",
    "# Image.fromarray(ka1)"
   ]
  },
  {
   "cell_type": "code",
   "execution_count": 217,
   "id": "b2b9161c",
   "metadata": {},
   "outputs": [],
   "source": [
    "blist = boundary_output_convert(boundary_output, (50,850))"
   ]
  },
  {
   "cell_type": "code",
   "execution_count": 216,
   "id": "001a4b67",
   "metadata": {
    "scrolled": true
   },
   "outputs": [],
   "source": [
    "def boundary_output_convert(sqlist, origin_um):\n",
    "    blist = [];\n",
    "    x00 = origin_um[0]*1000\n",
    "    y00 = origin_um[1]*1000\n",
    "    for idx, sq in enumerate(sqlist):\n",
    "        x0 = sq[0] + x00;\n",
    "        x1 = sq[1] + x00;\n",
    "        y0 = y00 - sq[3];\n",
    "        y1 = y00 - sq[2];\n",
    "        if(x0>x1):\n",
    "            t  = x1\n",
    "            x1 = x0\n",
    "            x0 = t\n",
    "            print('Warning: Record',idx,'X Coordinate Swapped')\n",
    "        if(y0>y1):\n",
    "            t  = y1\n",
    "            y1 = y0\n",
    "            y0 = t\n",
    "            print('Warning: Record',idx,'Y Coordinate Swapped')\n",
    "        blist.append([(x0,y0),(x1,y0),(x1,y1),(x1,y0),(x0,y0)])\n",
    "    return blist\n",
    "        "
   ]
  },
  {
   "cell_type": "code",
   "execution_count": 9,
   "id": "1c8dabf8",
   "metadata": {},
   "outputs": [
    {
     "name": "stdout",
     "output_type": "stream",
     "text": [
      "DIV FACTOR: 42\n",
      "DIV FACTOR: 42\n"
     ]
    },
    {
     "ename": "NameError",
     "evalue": "name 'binary_dilation' is not defined",
     "output_type": "error",
     "traceback": [
      "\u001b[0;31m---------------------------------------------------------------------------\u001b[0m",
      "\u001b[0;31mNameError\u001b[0m                                 Traceback (most recent call last)",
      "\u001b[0;32m<ipython-input-9-8d4adbda263f>\u001b[0m in \u001b[0;36m<module>\u001b[0;34m\u001b[0m\n\u001b[1;32m     13\u001b[0m \u001b[0mkr_ditq\u001b[0m \u001b[0;34m=\u001b[0m \u001b[0;34m(\u001b[0m\u001b[0mdither\u001b[0m\u001b[0;34m(\u001b[0m\u001b[0mkr\u001b[0m\u001b[0;34m,\u001b[0m \u001b[0mk_stucki\u001b[0m\u001b[0;34m,\u001b[0m\u001b[0;36m16\u001b[0m\u001b[0;34m)\u001b[0m\u001b[0;34m<<\u001b[0m\u001b[0;36m2\u001b[0m\u001b[0;34m)\u001b[0m\u001b[0;34m>\u001b[0m\u001b[0;36m128\u001b[0m\u001b[0;34m;\u001b[0m\u001b[0;34m\u001b[0m\u001b[0;34m\u001b[0m\u001b[0m\n\u001b[1;32m     14\u001b[0m \u001b[0mstrel\u001b[0m \u001b[0;34m=\u001b[0m \u001b[0mnp\u001b[0m\u001b[0;34m.\u001b[0m\u001b[0mones\u001b[0m\u001b[0;34m(\u001b[0m\u001b[0;34m(\u001b[0m\u001b[0mgapsize\u001b[0m\u001b[0;34m,\u001b[0m \u001b[0mgapsize\u001b[0m\u001b[0;34m)\u001b[0m\u001b[0;34m)\u001b[0m\u001b[0;34m\u001b[0m\u001b[0;34m\u001b[0m\u001b[0m\n\u001b[0;32m---> 15\u001b[0;31m \u001b[0mkr_ditq_di\u001b[0m \u001b[0;34m=\u001b[0m \u001b[0;34m~\u001b[0m\u001b[0mbinary_dilation\u001b[0m\u001b[0;34m(\u001b[0m\u001b[0mkr_ditq\u001b[0m\u001b[0;34m,\u001b[0m \u001b[0mstructure\u001b[0m\u001b[0;34m=\u001b[0m\u001b[0mstrel\u001b[0m\u001b[0;34m)\u001b[0m\u001b[0;34m\u001b[0m\u001b[0;34m\u001b[0m\u001b[0m\n\u001b[0m\u001b[1;32m     16\u001b[0m \u001b[0;34m\u001b[0m\u001b[0m\n\u001b[1;32m     17\u001b[0m \u001b[0mkr_dithered_10x\u001b[0m   \u001b[0;34m=\u001b[0m \u001b[0mnp\u001b[0m\u001b[0;34m.\u001b[0m\u001b[0marray\u001b[0m\u001b[0;34m(\u001b[0m\u001b[0mImage\u001b[0m\u001b[0;34m.\u001b[0m\u001b[0mfromarray\u001b[0m\u001b[0;34m(\u001b[0m\u001b[0mkr_ditq\u001b[0m\u001b[0;34m)\u001b[0m\u001b[0;34m.\u001b[0m\u001b[0mresize\u001b[0m\u001b[0;34m(\u001b[0m\u001b[0mksize3\u001b[0m\u001b[0;34m,\u001b[0m\u001b[0mImage\u001b[0m\u001b[0;34m.\u001b[0m\u001b[0mNEAREST\u001b[0m\u001b[0;34m)\u001b[0m\u001b[0;34m)\u001b[0m\u001b[0;34m\u001b[0m\u001b[0;34m\u001b[0m\u001b[0m\n",
      "\u001b[0;31mNameError\u001b[0m: name 'binary_dilation' is not defined"
     ]
    }
   ],
   "source": [
    "# Constant Spacing\n",
    "imgname = 'AMK'\n",
    "gapsize = 1;\n",
    "k = Image.open(imgname+'.png').convert('L')\n",
    "ksize = k.size\n",
    "k_target_h = 250; # Unit is 5 um\n",
    "k_scaling  = k_target_h/ksize[0]\n",
    "ksize1 = np.dot(ksize,k_scaling).astype(int)\n",
    "ksize2 = [ksize1[0],    ksize1[1]*10]\n",
    "ksize3 = [ksize1[0]*10, ksize1[1]*10]\n",
    "kr = np.array(k.resize(ksize1))\n",
    "kr_dithered = (dither(kr, k_stucki,16)<<2);\n",
    "kr_ditq = (dither(kr, k_stucki,16)<<2)>128;\n",
    "strel = np.ones((gapsize, gapsize))\n",
    "kr_ditq_di = ~binary_dilation(kr_ditq, structure=strel)\n",
    "\n",
    "kr_dithered_10x   = np.array(Image.fromarray(kr_ditq).resize(ksize3,Image.NEAREST))\n",
    "kr_dithered_10x_i = np.array(Image.fromarray(kr_ditq_di).resize(ksize3,Image.NEAREST))\n",
    "\n",
    "kr_dithered_10x = kr_dithered_10x.transpose()\n",
    "for i in range(ksize3[0]):\n",
    "    if((i%10)>=6):\n",
    "        kr_dithered_10x[i] = 0\n",
    "kr_dithered_10x = kr_dithered_10x.transpose()\n",
    "\n",
    "\n",
    "for i in range(ksize3[1]):\n",
    "    if((i%10)>=6):\n",
    "        kr_dithered_10x_i[i] = 0\n",
    "kr_final = kr_dithered_10x + kr_dithered_10x_i;\n",
    "\n",
    "plt.imshow(kr_final)\n",
    "plt.imsave(imgname+'_hv.png',kr_final)\n",
    "kr_dithered_10x_i = np.array(Image.fromarray(kr_dithered).resize(ksize3))"
   ]
  },
  {
   "cell_type": "code",
   "execution_count": 334,
   "id": "1f20575a",
   "metadata": {
    "scrolled": true
   },
   "outputs": [
    {
     "data": {
      "text/plain": [
       "<matplotlib.image.AxesImage at 0x7fad908c8d00>"
      ]
     },
     "execution_count": 334,
     "metadata": {},
     "output_type": "execute_result"
    },
    {
     "data": {
      "image/png": "[encoded data removed]",
      "text/plain": [
       "<Figure size 432x288 with 1 Axes>"
      ]
     },
     "metadata": {
      "needs_background": "light"
     },
     "output_type": "display_data"
    }
   ],
   "source": [
    "## kr_dithered_10x\n",
    "import numpy as np\n",
    "from scipy.ndimage.morphology import binary_dilation\n",
    "strel = np.ones((4, 4))\n",
    "dilated = binary_dilation(kr_dithered_10x_i, structure=strel)\n",
    "plt.imshow(dilated)"
   ]
  },
  {
   "cell_type": "code",
   "execution_count": 8,
   "id": "9987aca8",
   "metadata": {},
   "outputs": [
    {
     "name": "stdout",
     "output_type": "stream",
     "text": [
      "DIV FACTOR: 42\n"
     ]
    }
   ],
   "source": [
    "import sys\n",
    "import os\n",
    "import numpy as np\n",
    "from PIL import Image\n",
    "from math import sqrt\n",
    "\n",
    "k_fs = [\n",
    "        0,0,0,7,0,\n",
    "        0,3,5,1,0,\n",
    "        0,0,0,0,0\n",
    "    ]\n",
    "\n",
    "\n",
    "k_jjn = [\n",
    "        0,0,0,7,5,\n",
    "        3,5,7,5,3,\n",
    "        1,3,5,3,1\n",
    "    ]\n",
    "\n",
    "\n",
    "k_stucki = [\n",
    "        0,0,0,8,4,\n",
    "        2,4,8,4,2,\n",
    "        1,2,4,2,1\n",
    "    ]\n",
    "\n",
    "\n",
    "k_s2 = [\n",
    "        0,0,0,4,3,\n",
    "        1,2,3,2,1,\n",
    "        0,0,0,0,0\n",
    "    ]\n",
    "\n",
    "k_s3 = [\n",
    "        0,0,0,5,3,\n",
    "        2,4,5,4,2,\n",
    "        0,2,3,2,0\n",
    "    ]\n",
    "\n",
    "k_s24a = [\n",
    "        0,0,0,2,0,\n",
    "        0,1,1,0,0,\n",
    "        0,0,0,0,0\n",
    "    ]\n",
    "\n",
    "\n",
    "def dither(image, kernel, strength=1):\n",
    "    pixels = image.copy()>>2\n",
    "    xl = pixels.shape[0]\n",
    "    yl = pixels.shape[1]\n",
    "\n",
    "    DIV_FACTOR = sum(kernel)\n",
    "    print(\"DIV FACTOR:\", DIV_FACTOR)\n",
    "    for y in range(yl):\n",
    "        for x in range(xl):\n",
    "            oldpixel = pixels[x][y]\n",
    "            newpixel = 63*(oldpixel>31)\n",
    "            pixels[x][y] = newpixel\n",
    "            quant_error = (oldpixel - newpixel)/strength\n",
    "\n",
    "            if (x<xl-1):\n",
    "                pixels[x+1][y]   += quant_error*kernel[3]/DIV_FACTOR\n",
    "            if (x<xl-2):\n",
    "                pixels[x+2][y]   += quant_error*kernel[4]/DIV_FACTOR\n",
    "                \n",
    "            if (y<yl-1):\n",
    "                if (x>1):\n",
    "                    pixels[x-2][y+1] += quant_error*kernel[5]/DIV_FACTOR\n",
    "                if (x>0):\n",
    "                    pixels[x-1][y+1] += quant_error*kernel[6]/DIV_FACTOR\n",
    "                    pixels[x][y+1]   += quant_error*kernel[7]/DIV_FACTOR\n",
    "                if (x<xl-1):\n",
    "                    pixels[x+1][y+1] += quant_error*kernel[8]/DIV_FACTOR\n",
    "                if (x<xl-2):\n",
    "                    pixels[x+2][y+1] += quant_error*kernel[9]/DIV_FACTOR\n",
    "                \n",
    "            if (y<yl-2):\n",
    "                if (x>1):\n",
    "                    pixels[x-2][y+2] += quant_error*kernel[10]/DIV_FACTOR\n",
    "                if (x>0):\n",
    "                    pixels[x-1][y+2] += quant_error*kernel[11]/DIV_FACTOR\n",
    "                    pixels[x][y+2]   += quant_error*kernel[12]/DIV_FACTOR\n",
    "                if (x<xl-1):\n",
    "                    pixels[x+1][y+2] += quant_error*kernel[13]/DIV_FACTOR\n",
    "                if (x<xl-2):\n",
    "                    pixels[x+2][y+2] += quant_error*kernel[14]/DIV_FACTOR\n",
    " \n",
    "    return pixels\n",
    "\n",
    "\n",
    "filename = 'AMK.png'\n",
    "ai = np.array(Image.open(filename).convert('L'),\"int16\")\n",
    "img = Image.fromarray(dither(ai, k_stucki,2)<<2)\n",
    "img.show()\n",
    "\n",
    "# Note: Stucki is one of the few that can work with pure integer"
   ]
  }
 ],
 "metadata": {
  "kernelspec": {
   "display_name": "Python 3",
   "language": "python",
   "name": "python3"
  },
  "language_info": {
   "codemirror_mode": {
    "name": "ipython",
    "version": 3
   },
   "file_extension": ".py",
   "mimetype": "text/x-python",
   "name": "python",
   "nbconvert_exporter": "python",
   "pygments_lexer": "ipython3",
   "version": "3.8.8"
  }
 },
 "nbformat": 4,
 "nbformat_minor": 5
}
